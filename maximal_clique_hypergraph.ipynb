{
 "cells": [
  {
   "cell_type": "code",
   "execution_count": 1,
   "metadata": {},
   "outputs": [
    {
     "name": "stderr",
     "output_type": "stream",
     "text": [
      "INFO:root:Finish loading graphs.\n",
      "INFO:root:Nodes train: 327\n",
      "INFO:root:Simplicies train: 7818\n"
     ]
    },
    {
     "name": "stdout",
     "output_type": "stream",
     "text": [
      "number of simplices: 172035\n",
      "number of unique simplices: 7818\n",
      "Node index should begin with 0, reindexing the hypergraphs ...\n",
      "number of nodes in construct graph 327\n"
     ]
    }
   ],
   "source": [
    "# load the hypergraph\n",
    "import yaml\n",
    "import logging\n",
    "import os\n",
    "import sys\n",
    "import random\n",
    "\n",
    "import numpy as np\n",
    "import seaborn as sns\n",
    "import networkx as nx\n",
    "\n",
    "from utils import load_graphs\n",
    "from cliques import compute_cliques\n",
    "\n",
    "\n",
    "logging.basicConfig(level=logging.INFO)\n",
    "logger = logging.getLogger()\n",
    "logger.setLevel(logging.INFO)\n",
    "\n",
    "config  = yaml.safe_load(open('./config.yaml'))\n",
    "config['dataset'] = 'contact-high-school'\n",
    "graphs = load_graphs(config, logger)"
   ]
  },
  {
   "cell_type": "code",
   "execution_count": 2,
   "metadata": {},
   "outputs": [
    {
     "name": "stdout",
     "output_type": "stream",
     "text": [
      "Graph with 327 nodes and 5818 edges\n"
     ]
    }
   ],
   "source": [
    "l1_graph = graphs['G_train']\n",
    "l2_graph = utils. graphs['simplicies']"
   ]
  }
 ],
 "metadata": {
  "kernelspec": {
   "display_name": "hygen",
   "language": "python",
   "name": "python3"
  },
  "language_info": {
   "codemirror_mode": {
    "name": "ipython",
    "version": 3
   },
   "file_extension": ".py",
   "mimetype": "text/x-python",
   "name": "python",
   "nbconvert_exporter": "python",
   "pygments_lexer": "ipython3",
   "version": "3.12.1"
  }
 },
 "nbformat": 4,
 "nbformat_minor": 2
}
