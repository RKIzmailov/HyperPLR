{
 "cells": [
  {
   "cell_type": "code",
   "execution_count": 31,
   "metadata": {},
   "outputs": [
    {
     "name": "stdout",
     "output_type": "stream",
     "text": [
      "number of simplices: 271233\n",
      "number of unique simplices: 147222\n",
      "Node index should begin with 0, reindexing the hypergraphs ...\n",
      "number of nodes in construct graph 3029\n"
     ]
    },
    {
     "name": "stderr",
     "output_type": "stream",
     "text": [
      "INFO:root:Finish loading graphs.\n",
      "INFO:root:Nodes train: 3029\n",
      "INFO:root:Simplicies train: 147222\n"
     ]
    }
   ],
   "source": [
    "# load the hypergraph\n",
    "import yaml\n",
    "import logging\n",
    "import os\n",
    "import sys\n",
    "import random\n",
    "\n",
    "import numpy as np\n",
    "import seaborn as sns\n",
    "import networkx as nx\n",
    "\n",
    "from utils import load_graphs\n",
    "from utils import construct_decomposed_graph\n",
    "\n",
    "from cliques import compute_cliques\n",
    "\n",
    "\n",
    "logging.basicConfig(level=logging.INFO)\n",
    "logger = logging.getLogger()\n",
    "logger.setLevel(logging.INFO)\n",
    "\n",
    "config  = yaml.safe_load(open('./config.yaml'))\n",
    "config['dataset'] = 'tags-ask-ubuntu'\n",
    "graphs = load_graphs(config, logger)"
   ]
  },
  {
   "cell_type": "code",
   "execution_count": 32,
   "metadata": {},
   "outputs": [
    {
     "name": "stdout",
     "output_type": "stream",
     "text": [
      "Graph with 3029 nodes and 132703 edges\n"
     ]
    },
    {
     "ename": "",
     "evalue": "",
     "output_type": "error",
     "traceback": [
      "\u001b[1;31mThe Kernel crashed while executing code in the the current cell or a previous cell. Please review the code in the cell(s) to identify a possible cause of the failure. Click <a href='https://aka.ms/vscodeJupyterKernelCrash'>here</a> for more info. View Jupyter <a href='command:jupyter.viewOutput'>log</a> for further details."
     ]
    }
   ],
   "source": [
    "l1_graph = graphs['G_train']\n",
    "print(l1_graph)\n",
    "\n",
    "cliques = [c for c in nx.algorithms.clique.find_cliques(l1_graph)]\n",
    "print(f'The len of cliques: {len(cliques)}')\n"
   ]
  },
  {
   "cell_type": "code",
   "execution_count": 30,
   "metadata": {},
   "outputs": [
    {
     "name": "stdout",
     "output_type": "stream",
     "text": [
      "Graph with 88268 nodes and 11748348 edges\n"
     ]
    },
    {
     "ename": "KeyboardInterrupt",
     "evalue": "",
     "output_type": "error",
     "traceback": [
      "\u001b[0;31m---------------------------------------------------------------------------\u001b[0m",
      "\u001b[0;31mKeyboardInterrupt\u001b[0m                         Traceback (most recent call last)",
      "Cell \u001b[0;32mIn[30], line 3\u001b[0m\n\u001b[1;32m      1\u001b[0m l2_graph \u001b[38;5;241m=\u001b[39m construct_decomposed_graph(graphs[\u001b[38;5;124m'\u001b[39m\u001b[38;5;124msimplicies\u001b[39m\u001b[38;5;124m'\u001b[39m], limit\u001b[38;5;241m=\u001b[39m\u001b[38;5;241m100\u001b[39m) \n\u001b[1;32m      2\u001b[0m \u001b[38;5;28mprint\u001b[39m(l2_graph)\n\u001b[0;32m----> 3\u001b[0m cliques \u001b[38;5;241m=\u001b[39m \u001b[43m[\u001b[49m\u001b[43mc\u001b[49m\u001b[43m \u001b[49m\u001b[38;5;28;43;01mfor\u001b[39;49;00m\u001b[43m \u001b[49m\u001b[43mc\u001b[49m\u001b[43m \u001b[49m\u001b[38;5;129;43;01min\u001b[39;49;00m\u001b[43m \u001b[49m\u001b[43mnx\u001b[49m\u001b[38;5;241;43m.\u001b[39;49m\u001b[43malgorithms\u001b[49m\u001b[38;5;241;43m.\u001b[39;49m\u001b[43mclique\u001b[49m\u001b[38;5;241;43m.\u001b[39;49m\u001b[43mfind_cliques\u001b[49m\u001b[43m(\u001b[49m\u001b[43ml2_graph\u001b[49m\u001b[43m)\u001b[49m\u001b[43m]\u001b[49m\n\u001b[1;32m      4\u001b[0m \u001b[38;5;28mprint\u001b[39m(\u001b[38;5;124mf\u001b[39m\u001b[38;5;124m'\u001b[39m\u001b[38;5;124mThe len of cliques: \u001b[39m\u001b[38;5;132;01m{\u001b[39;00m\u001b[38;5;28mlen\u001b[39m(cliques)\u001b[38;5;132;01m}\u001b[39;00m\u001b[38;5;124m'\u001b[39m)\n",
      "File \u001b[0;32m~/anaconda3/envs/hygen/lib/python3.12/site-packages/networkx/algorithms/clique.py:271\u001b[0m, in \u001b[0;36mfind_cliques\u001b[0;34m(G, nodes)\u001b[0m\n\u001b[1;32m    268\u001b[0m ext_u \u001b[38;5;241m=\u001b[39m cand \u001b[38;5;241m-\u001b[39m adj[u]\n\u001b[1;32m    270\u001b[0m \u001b[38;5;28;01mtry\u001b[39;00m:\n\u001b[0;32m--> 271\u001b[0m     \u001b[38;5;28;01mwhile\u001b[39;00m \u001b[38;5;28;01mTrue\u001b[39;00m:\n\u001b[1;32m    272\u001b[0m         \u001b[38;5;28;01mif\u001b[39;00m ext_u:\n\u001b[1;32m    273\u001b[0m             q \u001b[38;5;241m=\u001b[39m ext_u\u001b[38;5;241m.\u001b[39mpop()\n",
      "\u001b[0;31mKeyboardInterrupt\u001b[0m: "
     ]
    }
   ],
   "source": [
    "l2_graph = construct_decomposed_graph(graphs['simplicies'], limit=100) \n",
    "print(l2_graph)\n",
    "cliques = [c for c in nx.algorithms.clique.find_cliques(l2_graph)]\n",
    "print(f'The len of cliques: {len(cliques)}')"
   ]
  }
 ],
 "metadata": {
  "kernelspec": {
   "display_name": "hygen",
   "language": "python",
   "name": "python3"
  },
  "language_info": {
   "codemirror_mode": {
    "name": "ipython",
    "version": 3
   },
   "file_extension": ".py",
   "mimetype": "text/x-python",
   "name": "python",
   "nbconvert_exporter": "python",
   "pygments_lexer": "ipython3",
   "version": "3.12.1"
  }
 },
 "nbformat": 4,
 "nbformat_minor": 2
}
